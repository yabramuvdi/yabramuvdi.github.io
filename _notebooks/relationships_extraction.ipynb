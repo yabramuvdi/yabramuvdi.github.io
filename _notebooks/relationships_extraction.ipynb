{
  "nbformat": 4,
  "nbformat_minor": 0,
  "metadata": {
    "colab": {
      "provenance": [],
      "collapsed_sections": []
    },
    "kernelspec": {
      "name": "python3",
      "display_name": "Python 3"
    },
    "language_info": {
      "name": "python"
    },
    "widgets": {
      "application/vnd.jupyter.widget-state+json": {
        "045eece09b464d00ad06bf982bc618a1": {
          "model_module": "@jupyter-widgets/controls",
          "model_name": "VBoxModel",
          "model_module_version": "1.5.0",
          "state": {
            "_dom_classes": [],
            "_model_module": "@jupyter-widgets/controls",
            "_model_module_version": "1.5.0",
            "_model_name": "VBoxModel",
            "_view_count": null,
            "_view_module": "@jupyter-widgets/controls",
            "_view_module_version": "1.5.0",
            "_view_name": "VBoxView",
            "box_style": "",
            "children": [
              "IPY_MODEL_b476e64618c344239e609af1c4ca2e34",
              "IPY_MODEL_6a47de63ecf542bbbc4326007e76a7f6",
              "IPY_MODEL_c918a7098538487fa67ed52143770547",
              "IPY_MODEL_ceb601c8628f46b5925f94c3503680f9"
            ],
            "layout": "IPY_MODEL_3af5747b93c84d249ac29ce191288ae8"
          }
        },
        "b476e64618c344239e609af1c4ca2e34": {
          "model_module": "@jupyter-widgets/controls",
          "model_name": "HTMLModel",
          "model_module_version": "1.5.0",
          "state": {
            "_dom_classes": [],
            "_model_module": "@jupyter-widgets/controls",
            "_model_module_version": "1.5.0",
            "_model_name": "HTMLModel",
            "_view_count": null,
            "_view_module": "@jupyter-widgets/controls",
            "_view_module_version": "1.5.0",
            "_view_name": "HTMLView",
            "description": "",
            "description_tooltip": null,
            "layout": "IPY_MODEL_b1706f2e1af34859968b07dde5cf0270",
            "placeholder": "​",
            "style": "IPY_MODEL_a42f200c52fc45e5bf85bfdc32816f6b",
            "value": "<center> <img\nsrc=https://huggingface.co/front/assets/huggingface_logo-noborder.svg\nalt='Hugging Face'> <br> Copy a token from <a\nhref=\"https://huggingface.co/settings/tokens\" target=\"_blank\">your Hugging Face\ntokens page</a> and paste it below. <br> Immediately click login after copying\nyour token or it might be stored in plain text in this notebook file. </center>"
          }
        },
        "6a47de63ecf542bbbc4326007e76a7f6": {
          "model_module": "@jupyter-widgets/controls",
          "model_name": "PasswordModel",
          "model_module_version": "1.5.0",
          "state": {
            "_dom_classes": [],
            "_model_module": "@jupyter-widgets/controls",
            "_model_module_version": "1.5.0",
            "_model_name": "PasswordModel",
            "_view_count": null,
            "_view_module": "@jupyter-widgets/controls",
            "_view_module_version": "1.5.0",
            "_view_name": "PasswordView",
            "continuous_update": true,
            "description": "Token:",
            "description_tooltip": null,
            "disabled": false,
            "layout": "IPY_MODEL_373d5a2b4f6b4837bad27276461c8a2d",
            "placeholder": "​",
            "style": "IPY_MODEL_be54a636047b44b195610f4b3b7ca553",
            "value": ""
          }
        },
        "c918a7098538487fa67ed52143770547": {
          "model_module": "@jupyter-widgets/controls",
          "model_name": "ButtonModel",
          "model_module_version": "1.5.0",
          "state": {
            "_dom_classes": [],
            "_model_module": "@jupyter-widgets/controls",
            "_model_module_version": "1.5.0",
            "_model_name": "ButtonModel",
            "_view_count": null,
            "_view_module": "@jupyter-widgets/controls",
            "_view_module_version": "1.5.0",
            "_view_name": "ButtonView",
            "button_style": "",
            "description": "Login",
            "disabled": false,
            "icon": "",
            "layout": "IPY_MODEL_19fe95e71426483b896aa116db1d0ef0",
            "style": "IPY_MODEL_be176294977f4f09a562d7f872eda4f9",
            "tooltip": ""
          }
        },
        "ceb601c8628f46b5925f94c3503680f9": {
          "model_module": "@jupyter-widgets/controls",
          "model_name": "HTMLModel",
          "model_module_version": "1.5.0",
          "state": {
            "_dom_classes": [],
            "_model_module": "@jupyter-widgets/controls",
            "_model_module_version": "1.5.0",
            "_model_name": "HTMLModel",
            "_view_count": null,
            "_view_module": "@jupyter-widgets/controls",
            "_view_module_version": "1.5.0",
            "_view_name": "HTMLView",
            "description": "",
            "description_tooltip": null,
            "layout": "IPY_MODEL_4bf0c5d2b35a46609e634b94b4687a22",
            "placeholder": "​",
            "style": "IPY_MODEL_965910838d924178ba2bb32ea7e6e79a",
            "value": "\n<b>Pro Tip:</b> If you don't already have one, you can create a dedicated\n'notebooks' token with 'write' access, that you can then easily reuse for all\nnotebooks. </center>"
          }
        },
        "3af5747b93c84d249ac29ce191288ae8": {
          "model_module": "@jupyter-widgets/base",
          "model_name": "LayoutModel",
          "model_module_version": "1.2.0",
          "state": {
            "_model_module": "@jupyter-widgets/base",
            "_model_module_version": "1.2.0",
            "_model_name": "LayoutModel",
            "_view_count": null,
            "_view_module": "@jupyter-widgets/base",
            "_view_module_version": "1.2.0",
            "_view_name": "LayoutView",
            "align_content": null,
            "align_items": "center",
            "align_self": null,
            "border": null,
            "bottom": null,
            "display": "flex",
            "flex": null,
            "flex_flow": "column",
            "grid_area": null,
            "grid_auto_columns": null,
            "grid_auto_flow": null,
            "grid_auto_rows": null,
            "grid_column": null,
            "grid_gap": null,
            "grid_row": null,
            "grid_template_areas": null,
            "grid_template_columns": null,
            "grid_template_rows": null,
            "height": null,
            "justify_content": null,
            "justify_items": null,
            "left": null,
            "margin": null,
            "max_height": null,
            "max_width": null,
            "min_height": null,
            "min_width": null,
            "object_fit": null,
            "object_position": null,
            "order": null,
            "overflow": null,
            "overflow_x": null,
            "overflow_y": null,
            "padding": null,
            "right": null,
            "top": null,
            "visibility": null,
            "width": "50%"
          }
        },
        "b1706f2e1af34859968b07dde5cf0270": {
          "model_module": "@jupyter-widgets/base",
          "model_name": "LayoutModel",
          "model_module_version": "1.2.0",
          "state": {
            "_model_module": "@jupyter-widgets/base",
            "_model_module_version": "1.2.0",
            "_model_name": "LayoutModel",
            "_view_count": null,
            "_view_module": "@jupyter-widgets/base",
            "_view_module_version": "1.2.0",
            "_view_name": "LayoutView",
            "align_content": null,
            "align_items": null,
            "align_self": null,
            "border": null,
            "bottom": null,
            "display": null,
            "flex": null,
            "flex_flow": null,
            "grid_area": null,
            "grid_auto_columns": null,
            "grid_auto_flow": null,
            "grid_auto_rows": null,
            "grid_column": null,
            "grid_gap": null,
            "grid_row": null,
            "grid_template_areas": null,
            "grid_template_columns": null,
            "grid_template_rows": null,
            "height": null,
            "justify_content": null,
            "justify_items": null,
            "left": null,
            "margin": null,
            "max_height": null,
            "max_width": null,
            "min_height": null,
            "min_width": null,
            "object_fit": null,
            "object_position": null,
            "order": null,
            "overflow": null,
            "overflow_x": null,
            "overflow_y": null,
            "padding": null,
            "right": null,
            "top": null,
            "visibility": null,
            "width": null
          }
        },
        "a42f200c52fc45e5bf85bfdc32816f6b": {
          "model_module": "@jupyter-widgets/controls",
          "model_name": "DescriptionStyleModel",
          "model_module_version": "1.5.0",
          "state": {
            "_model_module": "@jupyter-widgets/controls",
            "_model_module_version": "1.5.0",
            "_model_name": "DescriptionStyleModel",
            "_view_count": null,
            "_view_module": "@jupyter-widgets/base",
            "_view_module_version": "1.2.0",
            "_view_name": "StyleView",
            "description_width": ""
          }
        },
        "373d5a2b4f6b4837bad27276461c8a2d": {
          "model_module": "@jupyter-widgets/base",
          "model_name": "LayoutModel",
          "model_module_version": "1.2.0",
          "state": {
            "_model_module": "@jupyter-widgets/base",
            "_model_module_version": "1.2.0",
            "_model_name": "LayoutModel",
            "_view_count": null,
            "_view_module": "@jupyter-widgets/base",
            "_view_module_version": "1.2.0",
            "_view_name": "LayoutView",
            "align_content": null,
            "align_items": null,
            "align_self": null,
            "border": null,
            "bottom": null,
            "display": null,
            "flex": null,
            "flex_flow": null,
            "grid_area": null,
            "grid_auto_columns": null,
            "grid_auto_flow": null,
            "grid_auto_rows": null,
            "grid_column": null,
            "grid_gap": null,
            "grid_row": null,
            "grid_template_areas": null,
            "grid_template_columns": null,
            "grid_template_rows": null,
            "height": null,
            "justify_content": null,
            "justify_items": null,
            "left": null,
            "margin": null,
            "max_height": null,
            "max_width": null,
            "min_height": null,
            "min_width": null,
            "object_fit": null,
            "object_position": null,
            "order": null,
            "overflow": null,
            "overflow_x": null,
            "overflow_y": null,
            "padding": null,
            "right": null,
            "top": null,
            "visibility": null,
            "width": null
          }
        },
        "be54a636047b44b195610f4b3b7ca553": {
          "model_module": "@jupyter-widgets/controls",
          "model_name": "DescriptionStyleModel",
          "model_module_version": "1.5.0",
          "state": {
            "_model_module": "@jupyter-widgets/controls",
            "_model_module_version": "1.5.0",
            "_model_name": "DescriptionStyleModel",
            "_view_count": null,
            "_view_module": "@jupyter-widgets/base",
            "_view_module_version": "1.2.0",
            "_view_name": "StyleView",
            "description_width": ""
          }
        },
        "19fe95e71426483b896aa116db1d0ef0": {
          "model_module": "@jupyter-widgets/base",
          "model_name": "LayoutModel",
          "model_module_version": "1.2.0",
          "state": {
            "_model_module": "@jupyter-widgets/base",
            "_model_module_version": "1.2.0",
            "_model_name": "LayoutModel",
            "_view_count": null,
            "_view_module": "@jupyter-widgets/base",
            "_view_module_version": "1.2.0",
            "_view_name": "LayoutView",
            "align_content": null,
            "align_items": null,
            "align_self": null,
            "border": null,
            "bottom": null,
            "display": null,
            "flex": null,
            "flex_flow": null,
            "grid_area": null,
            "grid_auto_columns": null,
            "grid_auto_flow": null,
            "grid_auto_rows": null,
            "grid_column": null,
            "grid_gap": null,
            "grid_row": null,
            "grid_template_areas": null,
            "grid_template_columns": null,
            "grid_template_rows": null,
            "height": null,
            "justify_content": null,
            "justify_items": null,
            "left": null,
            "margin": null,
            "max_height": null,
            "max_width": null,
            "min_height": null,
            "min_width": null,
            "object_fit": null,
            "object_position": null,
            "order": null,
            "overflow": null,
            "overflow_x": null,
            "overflow_y": null,
            "padding": null,
            "right": null,
            "top": null,
            "visibility": null,
            "width": null
          }
        },
        "be176294977f4f09a562d7f872eda4f9": {
          "model_module": "@jupyter-widgets/controls",
          "model_name": "ButtonStyleModel",
          "model_module_version": "1.5.0",
          "state": {
            "_model_module": "@jupyter-widgets/controls",
            "_model_module_version": "1.5.0",
            "_model_name": "ButtonStyleModel",
            "_view_count": null,
            "_view_module": "@jupyter-widgets/base",
            "_view_module_version": "1.2.0",
            "_view_name": "StyleView",
            "button_color": null,
            "font_weight": ""
          }
        },
        "4bf0c5d2b35a46609e634b94b4687a22": {
          "model_module": "@jupyter-widgets/base",
          "model_name": "LayoutModel",
          "model_module_version": "1.2.0",
          "state": {
            "_model_module": "@jupyter-widgets/base",
            "_model_module_version": "1.2.0",
            "_model_name": "LayoutModel",
            "_view_count": null,
            "_view_module": "@jupyter-widgets/base",
            "_view_module_version": "1.2.0",
            "_view_name": "LayoutView",
            "align_content": null,
            "align_items": null,
            "align_self": null,
            "border": null,
            "bottom": null,
            "display": null,
            "flex": null,
            "flex_flow": null,
            "grid_area": null,
            "grid_auto_columns": null,
            "grid_auto_flow": null,
            "grid_auto_rows": null,
            "grid_column": null,
            "grid_gap": null,
            "grid_row": null,
            "grid_template_areas": null,
            "grid_template_columns": null,
            "grid_template_rows": null,
            "height": null,
            "justify_content": null,
            "justify_items": null,
            "left": null,
            "margin": null,
            "max_height": null,
            "max_width": null,
            "min_height": null,
            "min_width": null,
            "object_fit": null,
            "object_position": null,
            "order": null,
            "overflow": null,
            "overflow_x": null,
            "overflow_y": null,
            "padding": null,
            "right": null,
            "top": null,
            "visibility": null,
            "width": null
          }
        },
        "965910838d924178ba2bb32ea7e6e79a": {
          "model_module": "@jupyter-widgets/controls",
          "model_name": "DescriptionStyleModel",
          "model_module_version": "1.5.0",
          "state": {
            "_model_module": "@jupyter-widgets/controls",
            "_model_module_version": "1.5.0",
            "_model_name": "DescriptionStyleModel",
            "_view_count": null,
            "_view_module": "@jupyter-widgets/base",
            "_view_module_version": "1.2.0",
            "_view_name": "StyleView",
            "description_width": ""
          }
        }
      }
    }
  },
  "cells": [
    {
      "cell_type": "markdown",
      "source": [
        "# Extracting relationships between entities using BLOOM\n",
        "\n",
        "[![Open In Colab](https://colab.research.google.com/assets/colab-badge.svg)](https://colab.research.google.com/github/yabramuvdi/yabramuvdi.github.io/blob/master/_notebooks/relationships_extraction.ipynb)\n",
        "\n",
        "This notebook briefly demonstrates how a large language model, when properly prompted, can be used to extract multiple types of relationships between entities."
      ],
      "metadata": {
        "id": "7rP0q5WfRnjD"
      }
    },
    {
      "cell_type": "markdown",
      "source": [
        "## Setup"
      ],
      "metadata": {
        "id": "koZ4k2XASDC5"
      }
    },
    {
      "cell_type": "code",
      "execution_count": 1,
      "metadata": {
        "colab": {
          "base_uri": "https://localhost:8080/"
        },
        "id": "1qk_FIdzCA7M",
        "outputId": "93f5648f-23f0-4553-89ac-17c09304dfb0"
      },
      "outputs": [
        {
          "output_type": "stream",
          "name": "stdout",
          "text": [
            "Looking in indexes: https://pypi.org/simple, https://us-python.pkg.dev/colab-wheels/public/simple/\n",
            "Collecting huggingface_hub\n",
            "  Downloading huggingface_hub-0.10.0-py3-none-any.whl (163 kB)\n",
            "\u001b[K     |████████████████████████████████| 163 kB 5.8 MB/s \n",
            "\u001b[?25hRequirement already satisfied: pyyaml>=5.1 in /usr/local/lib/python3.7/dist-packages (from huggingface_hub) (6.0)\n",
            "Requirement already satisfied: filelock in /usr/local/lib/python3.7/dist-packages (from huggingface_hub) (3.8.0)\n",
            "Requirement already satisfied: importlib-metadata in /usr/local/lib/python3.7/dist-packages (from huggingface_hub) (4.12.0)\n",
            "Requirement already satisfied: packaging>=20.9 in /usr/local/lib/python3.7/dist-packages (from huggingface_hub) (21.3)\n",
            "Requirement already satisfied: typing-extensions>=3.7.4.3 in /usr/local/lib/python3.7/dist-packages (from huggingface_hub) (4.1.1)\n",
            "Requirement already satisfied: requests in /usr/local/lib/python3.7/dist-packages (from huggingface_hub) (2.23.0)\n",
            "Requirement already satisfied: tqdm in /usr/local/lib/python3.7/dist-packages (from huggingface_hub) (4.64.1)\n",
            "Requirement already satisfied: pyparsing!=3.0.5,>=2.0.2 in /usr/local/lib/python3.7/dist-packages (from packaging>=20.9->huggingface_hub) (3.0.9)\n",
            "Requirement already satisfied: zipp>=0.5 in /usr/local/lib/python3.7/dist-packages (from importlib-metadata->huggingface_hub) (3.8.1)\n",
            "Requirement already satisfied: urllib3!=1.25.0,!=1.25.1,<1.26,>=1.21.1 in /usr/local/lib/python3.7/dist-packages (from requests->huggingface_hub) (1.24.3)\n",
            "Requirement already satisfied: chardet<4,>=3.0.2 in /usr/local/lib/python3.7/dist-packages (from requests->huggingface_hub) (3.0.4)\n",
            "Requirement already satisfied: idna<3,>=2.5 in /usr/local/lib/python3.7/dist-packages (from requests->huggingface_hub) (2.10)\n",
            "Requirement already satisfied: certifi>=2017.4.17 in /usr/local/lib/python3.7/dist-packages (from requests->huggingface_hub) (2022.6.15)\n",
            "Installing collected packages: huggingface-hub\n",
            "Successfully installed huggingface-hub-0.10.0\n"
          ]
        }
      ],
      "source": [
        "! pip install huggingface_hub\n",
        "! git config --global credential.helper store"
      ]
    },
    {
      "cell_type": "code",
      "source": [
        "from huggingface_hub import notebook_login\n",
        "from huggingface_hub import HfFolder\n",
        "from huggingface_hub import InferenceApi\n",
        "import random\n",
        "import time\n",
        "\n",
        "from google.colab import output\n",
        "output.enable_custom_widget_manager()"
      ],
      "metadata": {
        "id": "ECIsca0NC1Zk"
      },
      "execution_count": 24,
      "outputs": []
    },
    {
      "cell_type": "code",
      "source": [
        "# now we need to login to HuggingFace through a personal token.\n",
        "# once you have a HuggingFace account (it's free) go to \"settings\" and then\n",
        "# to \"access tokens\". There you can create a token for your notebooks\n",
        "notebook_login()"
      ],
      "metadata": {
        "colab": {
          "base_uri": "https://localhost:8080/",
          "height": 299,
          "referenced_widgets": [
            "045eece09b464d00ad06bf982bc618a1",
            "b476e64618c344239e609af1c4ca2e34",
            "6a47de63ecf542bbbc4326007e76a7f6",
            "c918a7098538487fa67ed52143770547",
            "ceb601c8628f46b5925f94c3503680f9",
            "3af5747b93c84d249ac29ce191288ae8",
            "b1706f2e1af34859968b07dde5cf0270",
            "a42f200c52fc45e5bf85bfdc32816f6b",
            "373d5a2b4f6b4837bad27276461c8a2d",
            "be54a636047b44b195610f4b3b7ca553",
            "19fe95e71426483b896aa116db1d0ef0",
            "be176294977f4f09a562d7f872eda4f9",
            "4bf0c5d2b35a46609e634b94b4687a22",
            "965910838d924178ba2bb32ea7e6e79a"
          ]
        },
        "id": "U0G4317N_DGG",
        "outputId": "fc6e40e8-6702-4cd9-de41-504660b407ee"
      },
      "execution_count": 3,
      "outputs": [
        {
          "output_type": "stream",
          "name": "stdout",
          "text": [
            "Login successful\n",
            "Your token has been saved to /root/.huggingface/token\n"
          ]
        }
      ]
    },
    {
      "cell_type": "markdown",
      "source": [
        "## Text generation pipeline"
      ],
      "metadata": {
        "id": "Wd-p0KCeTQ0C"
      }
    },
    {
      "cell_type": "code",
      "source": [
        "# initialize an inference object\n",
        "# you could use provide your login token directly as a parameter\n",
        "inference = InferenceApi(\"bigscience/bloom\", token=HfFolder.get_token())"
      ],
      "metadata": {
        "id": "eKQZlB7zFZ_g"
      },
      "execution_count": 4,
      "outputs": []
    },
    {
      "cell_type": "code",
      "source": [
        "# set up a pipeline for generating text from a prompt\n",
        "def infer(prompt,\n",
        "          max_length = 50,\n",
        "          top_k = 0,\n",
        "          num_beams = 0,\n",
        "          no_repeat_ngram_size = 2,\n",
        "          top_p = 0.9,\n",
        "          seed=42,\n",
        "          temperature=0.7,\n",
        "          greedy_decoding = False,\n",
        "          return_full_text = False):\n",
        "    \n",
        "\n",
        "    top_k = None if top_k == 0 else top_k\n",
        "    do_sample = False if num_beams > 0 else not greedy_decoding\n",
        "    num_beams = None if (greedy_decoding or num_beams == 0) else num_beams\n",
        "    no_repeat_ngram_size = None if num_beams is None else no_repeat_ngram_size\n",
        "    top_p = None if num_beams else top_p\n",
        "    early_stopping = None if num_beams is None else num_beams > 0\n",
        "\n",
        "    params = {\n",
        "        \"max_new_tokens\": max_length,\n",
        "        \"top_k\": top_k,\n",
        "        \"top_p\": top_p,\n",
        "        \"temperature\": temperature,\n",
        "        \"do_sample\": do_sample,\n",
        "        \"seed\": seed,\n",
        "        \"early_stopping\":early_stopping,\n",
        "        \"no_repeat_ngram_size\":no_repeat_ngram_size,\n",
        "        \"num_beams\":num_beams,\n",
        "        \"return_full_text\":return_full_text\n",
        "    }\n",
        "    \n",
        "    s = time.time()\n",
        "    response = inference(prompt, params=params)\n",
        "    #print(response)\n",
        "    proc_time = time.time()-s\n",
        "    print(f\"Processing time was {proc_time} seconds\\n\\n\")\n",
        "    return response"
      ],
      "metadata": {
        "id": "ybzwIa35Flqy"
      },
      "execution_count": 7,
      "outputs": []
    },
    {
      "cell_type": "code",
      "source": [
        "# let's try a first simple example\n",
        "prompt = \"The thing that makes large language models interesting is\"\n",
        "resp = infer(prompt, max_length=50)\n",
        "print(resp[0][\"generated_text\"])"
      ],
      "metadata": {
        "colab": {
          "base_uri": "https://localhost:8080/"
        },
        "id": "-PCT5BnOFp_C",
        "outputId": "39707fa0-0dde-476b-b25d-31a8f9bd2402"
      },
      "execution_count": 8,
      "outputs": [
        {
          "output_type": "stream",
          "name": "stdout",
          "text": [
            "Processing time was 0.0995793342590332 seconds\n",
            "\n",
            "\n",
            "The thing that makes large language models interesting is that they are huge. I think the largest model we’ve seen was something like 1.2 billion parameters, which is much larger than the typical model that you’d train on a single GPU.\n",
            "It’s a bit of a chicken-and-egg problem.\n"
          ]
        }
      ]
    },
    {
      "cell_type": "markdown",
      "source": [
        "## Relationship extraction\n",
        "\n",
        "Now we can try to see if we can prompt the model to extract relationships between the entities present in some text. To do this we will start the prompt stating exactly what we want the model to do and then we will include three examples. This is known as *few-shot learning* in the literature."
      ],
      "metadata": {
        "id": "pzDs1u_GOoH5"
      }
    },
    {
      "cell_type": "markdown",
      "source": [
        "### Family relationships"
      ],
      "metadata": {
        "id": "hDfJQwPsdNm2"
      }
    },
    {
      "cell_type": "code",
      "source": [
        "# Simple example of family relationships\n",
        "prompt = \"\"\"Extract the people and their relationship in this text: \n",
        "\n",
        "Text: \"Homer Simpson is married to Marge Bubie.\" \n",
        "Relationship: Homer Simpson, Marge Bubie, married \n",
        "\n",
        "Text: \"In 1992, Maria Perez and John Smith celebrated their nuptials.\" \n",
        "Relationship: Maria Perez, John Smith, married \n",
        "\n",
        "Text: \"Paul Rodriguez is the son of Julia Baena.\" \n",
        "Relationship: Paul Rodriguez, Julia Baena, child-parent \n",
        "\n",
        "Text: \"Sammy Castro is the uncle of Nicolas Gonzalez.\" \n",
        "Relationship: \"\"\"\n",
        "\n",
        "resp = infer(prompt, max_length=100)\n",
        "print(resp[0][\"generated_text\"])"
      ],
      "metadata": {
        "id": "SdNuT1-QOlAC",
        "colab": {
          "base_uri": "https://localhost:8080/"
        },
        "outputId": "2b61d60d-a54b-4337-b3d5-dc3f87e4434b"
      },
      "execution_count": 13,
      "outputs": [
        {
          "output_type": "stream",
          "name": "stdout",
          "text": [
            "Processing time was 0.09788250923156738 seconds\n",
            "\n",
            "\n",
            "Extract the people and their relationship in this text: \n",
            "\n",
            "Text: \"Homer Simpson is married to Marge Bubie.\" \n",
            "Relationship: Homer Simpson, Marge Bubie, married \n",
            "\n",
            "Text: \"In 1992, Maria Perez and John Smith celebrated their nuptials.\" \n",
            "Relationship: Maria Perez, John Smith, married \n",
            "\n",
            "Text: \"Paul Rodriguez is the son of Julia Baena.\" \n",
            "Relationship: Paul Rodriguez, Julia Baena, child-parent \n",
            "\n",
            "Text: \"Sammy Castro is the uncle of Nicolas Gonzalez.\" \n",
            "Relationship:  Sammy Castro, Nicolas Gonzalez, uncle-nephew \n",
            "\n",
            "Text: \"Alexa Gonzalez is the granddaughter of Javier Gonzalez.\" \n",
            "Relationship: Alexa Gonzalez, Javier Gonzalez, grandparent-grandchild \n",
            "\n",
            "Text: \"Sara Gonzalez is the aunt of Alejandro Gonzalez.\" \n",
            "Relationship: Sara Gonzalez, Alejandro Gonzalez, aunt-nephew \n",
            "\n",
            "Text: \"Lucy Gonzalez is the daughter of Susan Gonzalez.\" \n",
            "Relationship: Lucy Gonzalez, Susan Gonzalez, parent-child \n",
            "\n",
            "Text: \"Lucy Gonzalez is\n"
          ]
        }
      ]
    },
    {
      "cell_type": "markdown",
      "source": [
        "It seems to work very well! And in addition to identifying the relationship in the example we provided, the model also generated some examples by itself."
      ],
      "metadata": {
        "id": "uy1QOmiBZuOh"
      }
    },
    {
      "cell_type": "code",
      "source": [
        "# multiple relationships\n",
        "prompt = \"\"\"Extract the people and their relationships in this text: \n",
        "\n",
        "Text: \"Pedro Gonzalez is married to Ana De los Rios.\" \n",
        "Relationships: (Pedro Gonzalez, Ana De los Rios, married) \n",
        "\n",
        "Text: \"Pablo Doe is the son of Carmen Rueda and Antonio Doe.\"\n",
        "Relationships: (Pablo Doe, Carmen Rueda, child-parent), (Pablo Doe, Antonio Doe, child-parent)\n",
        "\n",
        "Text: \"Sara Cuadrado was born in 1995 from Daniela Muller and Juan Cuadrado.\"\n",
        "Relationships: (Sara Cuadrado, Daniela Muller, child-parent), (Sara Cuadrado, Juan Cuadrado, child-parent) \n",
        "\n",
        "Text: \"Tom Smith is married to Ana Dupont and son of the famous writer Charles Smith.\"\n",
        "Relationships:\"\"\"\n",
        "\n",
        "resp = infer(prompt, max_length=50)\n",
        "print(resp[0][\"generated_text\"])"
      ],
      "metadata": {
        "colab": {
          "base_uri": "https://localhost:8080/"
        },
        "id": "ghIvGfhVa69f",
        "outputId": "2680cf13-4f87-4121-dc80-353f9865766f"
      },
      "execution_count": 30,
      "outputs": [
        {
          "output_type": "stream",
          "name": "stdout",
          "text": [
            "Processing time was 3.722917079925537 seconds\n",
            "\n",
            "\n",
            "Extract the people and their relationships in this text: \n",
            "\n",
            "Text: \"Pedro Gonzalez is married to Ana De los Rios.\" \n",
            "Relationships: (Pedro Gonzalez, Ana De los Rios, married) \n",
            "\n",
            "Text: \"Pablo Doe is the son of Carmen Rueda and Antonio Doe.\"\n",
            "Relationships: (Pablo Doe, Carmen Rueda, child-parent), (Pablo Doe, Antonio Doe, child-parent)\n",
            "\n",
            "Text: \"Sara Cuadrado was born in 1995 from Daniela Muller and Juan Cuadrado.\"\n",
            "Relationships: (Sara Cuadrado, Daniela Muller, child-parent), (Sara Cuadrado, Juan Cuadrado, child-parent) \n",
            "\n",
            "Text: \"Tom Smith is married to Ana Dupont and son of the famous writer Charles Smith.\"\n",
            "Relationships: (Tom Smith, Ana Dupont, married), (Tom Smith, Charles Smith, child-parent)\n",
            "\n",
            "Text: \"Maria Alvarez is the sister of Pedro Alvarez.\"\n",
            "Relationships: (Maria Alvarez, Pedro Alvarez, sister)\n",
            "\n",
            "Text: \"Juan Perez is the\n"
          ]
        }
      ]
    },
    {
      "cell_type": "markdown",
      "source": [
        "We can see that the model understood the new format in which we wanted to extract the relationships and was able to correct identify them. Now we want to further test the capacity of the model by combining text in English and Spanish."
      ],
      "metadata": {
        "id": "lmANd1CcgrHV"
      }
    },
    {
      "cell_type": "code",
      "source": [
        "# multiple relationships with multilingual text\n",
        "prompt = \"\"\"Extract the people and their relationships in this text: \n",
        "\n",
        "Text: \"Pedro Gonzalez is married to Ana De los Rios.\" \n",
        "Relationships: (Pedro Gonzalez, Ana De los Rios, married) \n",
        "\n",
        "Text: \"Pablo Doe is the son of Carmen Rueda and Antonio Doe.\"\n",
        "Relationships: (Pablo Doe, Carmen Rueda, child-parent), (Pablo Doe, Antonio Doe, child-parent)\n",
        "\n",
        "Text: \"Sara Cuadrado was born in 1995 from Daniela Muller and Juan Cuadrado.\"\n",
        "Relationships: (Sara Cuadrado, Daniela Muller, child-parent), (Sara Cuadrado, Juan Cuadrado, child-parent) \n",
        "\n",
        "Text: \"Doña Brigida Gómez de Orozco y Dominguez, esposa en primeras nupcias del Capitán Dionisio de Velasco, alférez mayor y encomendero de San Cristobal\" \n",
        "Relationships: (Doña Brigida Gómez de Orozco y Dominguez, Capitán Dionisio de Velasco, married) \n",
        "\n",
        "Text: \"Guillermo Acosta Acosta, casado con Ofelia Uribe Duran, de importantes logros políticos, periodista e institutora, hermana de Beatríz Uribe Duran.\" \n",
        "Relationships: (Guillermo Acosta Acosta, Ofelia Uribe Duran, married), (Ofelia Uribe Duran, Beatriz Uribe Duran, siblings)\n",
        "\n",
        "Text: \"Don Rafael Vergara, es el padre de Enrique Vergara, el presidente del Colegio de Abogados de Lima, y el esposo de Enriqueta María de los Milagros.\"\n",
        "Relationships:\"\"\"\n",
        "\n",
        "resp = infer(prompt, max_length=100)\n",
        "print(resp[0][\"generated_text\"])"
      ],
      "metadata": {
        "colab": {
          "base_uri": "https://localhost:8080/"
        },
        "id": "kd5yXNkIaDIh",
        "outputId": "a032ce86-61fc-4b27-f16d-ab45a0a15ce1"
      },
      "execution_count": 29,
      "outputs": [
        {
          "output_type": "stream",
          "name": "stdout",
          "text": [
            "Processing time was 8.13334321975708 seconds\n",
            "\n",
            "\n",
            "Extract the people and their relationships in this text: \n",
            "\n",
            "Text: \"Pedro Gonzalez is married to Ana De los Rios.\" \n",
            "Relationships: (Pedro Gonzalez, Ana De los Rios, married) \n",
            "\n",
            "Text: \"Pablo Doe is the son of Carmen Rueda and Antonio Doe.\"\n",
            "Relationships: (Pablo Doe, Carmen Rueda, child-parent), (Pablo Doe, Antonio Doe, child-parent)\n",
            "\n",
            "Text: \"Sara Cuadrado was born in 1995 from Daniela Muller and Juan Cuadrado.\"\n",
            "Relationships: (Sara Cuadrado, Daniela Muller, child-parent), (Sara Cuadrado, Juan Cuadrado, child-parent) \n",
            "\n",
            "Text: \"Doña Brigida Gómez de Orozco y Dominguez, esposa en primeras nupcias del Capitán Dionisio de Velasco, alférez mayor y encomendero de San Cristobal\" \n",
            "Relationships: (Doña Brigida Gómez de Orozco y Dominguez, Capitán Dionisio de Velasco, married) \n",
            "\n",
            "Text: \"Guillermo Acosta Acosta, casado con Ofelia Uribe Duran, de importantes logros políticos, periodista e institutora, hermana de Beatríz Uribe Duran.\" \n",
            "Relationships: (Guillermo Acosta Acosta, Ofelia Uribe Duran, married), (Ofelia Uribe Duran, Beatriz Uribe Duran, siblings)\n",
            "\n",
            "Text: \"Don Rafael Vergara, es el padre de Enrique Vergara, el presidente del Colegio de Abogados de Lima, y el esposo de Enriqueta María de los Milagros.\"\n",
            "Relationships: (Don Rafael Vergara, Enrique Vergara, father-son), (Don Rafael Vergara, Enriqueta María de los Milagros, married)\n",
            "\n",
            "Text: \"María Fernanda de la Puente del Río, es la hija de la periodista y política, Elena de la Puente del Río y del ex Ministro de Educación, Alfonso de la Puente del Río.\"\n",
            "Relationships: (María Fernanda de la Puente del Río, Elena de la Puente del Río, child-parent), (María Fernanda de la Puente del\n"
          ]
        }
      ]
    },
    {
      "cell_type": "markdown",
      "source": [
        "This is awesome! Notice that the model is able to generate new examples in Spanish."
      ],
      "metadata": {
        "id": "ydfbP0I7hBle"
      }
    },
    {
      "cell_type": "markdown",
      "source": [
        "### Occupations\n",
        "\n",
        "Lastly, we want to see if the model is capable of identifying other types of relationships in the text. We will focus on extracting the occupation of people mentioned in the text."
      ],
      "metadata": {
        "id": "OcJzCILndQIn"
      }
    },
    {
      "cell_type": "code",
      "source": [
        "# simple occupation extraction\n",
        "prompt = \"\"\"Extract the people and their occupations in this text: \n",
        "\n",
        "Text: \"Pedro Gomez is the son of Ofelia Uribe and the director of the largest hospital in Lima.\" \n",
        "Occupations: (Pedro Gomez, doctor)\n",
        "\n",
        "Text: \"Rafael Smith was known as the best butcher in the city.\"\n",
        "Occupations: (Rafael Smith, butcher)\n",
        "\n",
        "Text: \"All his life, Nicolas Duran worked as a highschool teacher in multiple schools.\"\n",
        "Occupations: (Nicolas Duran, teacher)\n",
        "\n",
        "Text: \"John Vega dedicated all his days to making the best bread in the city.\"\n",
        "Occupations:\"\"\"\n",
        "\n",
        "resp = infer(prompt, max_length=50, seed=random.randint(0, 100000))\n",
        "print(resp[0][\"generated_text\"])"
      ],
      "metadata": {
        "id": "RNWJrPHf9Yo5",
        "colab": {
          "base_uri": "https://localhost:8080/"
        },
        "outputId": "98fd9a7a-588c-40c6-af74-bb74c4e194f2"
      },
      "execution_count": 28,
      "outputs": [
        {
          "output_type": "stream",
          "name": "stdout",
          "text": [
            "Processing time was 3.8372151851654053 seconds\n",
            "\n",
            "\n",
            "Extract the people and their occupations in this text: \n",
            "\n",
            "Text: \"Pedro Gomez is the son of Ofelia Uribe and the director of the largest hospital in Lima.\" \n",
            "Occupations: (Pedro Gomez, doctor)\n",
            "\n",
            "Text: \"Rafael Smith was known as the best butcher in the city.\"\n",
            "Occupations: (Rafael Smith, butcher)\n",
            "\n",
            "Text: \"All his life, Nicolas Duran worked as a highschool teacher in multiple schools.\"\n",
            "Occupations: (Nicolas Duran, teacher)\n",
            "\n",
            "Text: \"John Vega dedicated all his days to making the best bread in the city.\"\n",
            "Occupations: (John Vega, baker)\n",
            "\n",
            "Text: \"Jose Alvarez is the son of Catalina Gomez and a police officer.\"\n",
            "Occupations: (Jose Alvarez, police officer)\n",
            "\n",
            "Text: \"Luciana Perez is the daughter of Matilde Lopez and a psychologist\n"
          ]
        }
      ]
    }
  ]
}