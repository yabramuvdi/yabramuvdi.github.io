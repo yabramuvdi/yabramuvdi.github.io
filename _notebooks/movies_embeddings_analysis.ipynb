{
  "cells": [
    {
      "cell_type": "markdown",
      "source": [
        "# Bernoulli Embeddings\n",
        "### *A demonstration using the MovieLens dataset (Part 2)*\n",
        "\n",
        "[![Open In Colab](https://colab.research.google.com/assets/colab-badge.svg)](https://colab.research.google.com/github/yabramuvdi/yabramuvdi.github.io/blob/master/_notebooks/movies_embeddings_analysis.ipynb)"
      ],
      "metadata": {
        "id": "DLQlTkENpEqo"
      }
    },
    {
      "cell_type": "markdown",
      "source": [
        "This notebook continues the demonstration of the Bernoulli embeddings that started [here](https://yabramuvdi.github.io/movies_embeddings_estimation). After having estimated the embeddings for all the movies available in our dataset we can now evaluate their quality. We will do this by looking at the nearest neighbors of some movies and solving a couple of analogy tasks. "
      ],
      "metadata": {
        "id": "nRJ0caDIpW5f"
      }
    },
    {
      "cell_type": "markdown",
      "metadata": {
        "id": "dEHOxJZR5X-s"
      },
      "source": [
        "## Setup"
      ]
    },
    {
      "cell_type": "code",
      "source": [
        "# install libraries\n",
        "!pip install annoy"
      ],
      "metadata": {
        "colab": {
          "base_uri": "https://localhost:8080/"
        },
        "id": "veISqJCg5ktA",
        "outputId": "1882bbb3-42b4-499a-ab85-6f0d214dbdce"
      },
      "execution_count": 1,
      "outputs": [
        {
          "output_type": "stream",
          "name": "stdout",
          "text": [
            "Looking in indexes: https://pypi.org/simple, https://us-python.pkg.dev/colab-wheels/public/simple/\n",
            "Collecting annoy\n",
            "  Downloading annoy-1.17.1.tar.gz (647 kB)\n",
            "\u001b[K     |████████████████████████████████| 647 kB 28.9 MB/s \n",
            "\u001b[?25hBuilding wheels for collected packages: annoy\n",
            "  Building wheel for annoy (setup.py) ... \u001b[?25l\u001b[?25hdone\n",
            "  Created wheel for annoy: filename=annoy-1.17.1-cp37-cp37m-linux_x86_64.whl size=397059 sha256=364ec9b1ce68e9fd490b666032876cfb540d6ee79ca974d0572d9bdf76cb3e72\n",
            "  Stored in directory: /root/.cache/pip/wheels/81/94/bf/92cb0e4fef8770fe9c6df0ba588fca30ab7c306b6048ae8a54\n",
            "Successfully built annoy\n",
            "Installing collected packages: annoy\n",
            "Successfully installed annoy-1.17.1\n"
          ]
        }
      ]
    },
    {
      "cell_type": "code",
      "source": [
        "# clone the repository with the estimated embeddings\n",
        "!git clone https://github.com/yabramuvdi/bernoulli-embeddings.git"
      ],
      "metadata": {
        "colab": {
          "base_uri": "https://localhost:8080/"
        },
        "id": "UMX_1MLspksS",
        "outputId": "f6b14cbf-a5dc-4c37-9a1d-1d67378ff69b"
      },
      "execution_count": 2,
      "outputs": [
        {
          "output_type": "stream",
          "name": "stdout",
          "text": [
            "Cloning into 'bernoulli-embeddings'...\n",
            "remote: Enumerating objects: 23, done.\u001b[K\n",
            "remote: Counting objects: 100% (23/23), done.\u001b[K\n",
            "remote: Compressing objects: 100% (20/20), done.\u001b[K\n",
            "remote: Total 23 (delta 7), reused 15 (delta 2), pack-reused 0\u001b[K\n",
            "Unpacking objects: 100% (23/23), done.\n"
          ]
        }
      ]
    },
    {
      "cell_type": "code",
      "source": [
        "# get data from MovieLens\n",
        "!wget https://files.grouplens.org/datasets/movielens/ml-25m.zip"
      ],
      "metadata": {
        "colab": {
          "base_uri": "https://localhost:8080/"
        },
        "id": "Xsb53SjfqDCg",
        "outputId": "47470eb7-69a4-474c-eefc-ead851cd7af1"
      },
      "execution_count": 3,
      "outputs": [
        {
          "output_type": "stream",
          "name": "stdout",
          "text": [
            "--2022-11-05 17:17:54--  https://files.grouplens.org/datasets/movielens/ml-25m.zip\n",
            "Resolving files.grouplens.org (files.grouplens.org)... 128.101.65.152\n",
            "Connecting to files.grouplens.org (files.grouplens.org)|128.101.65.152|:443... connected.\n",
            "HTTP request sent, awaiting response... 200 OK\n",
            "Length: 261978986 (250M) [application/zip]\n",
            "Saving to: ‘ml-25m.zip’\n",
            "\n",
            "ml-25m.zip          100%[===================>] 249.84M  13.3MB/s    in 20s     \n",
            "\n",
            "2022-11-05 17:18:16 (12.2 MB/s) - ‘ml-25m.zip’ saved [261978986/261978986]\n",
            "\n"
          ]
        }
      ]
    },
    {
      "cell_type": "code",
      "source": [
        "# unzip data\n",
        "!unzip ml-25m.zip"
      ],
      "metadata": {
        "colab": {
          "base_uri": "https://localhost:8080/"
        },
        "id": "sFCk8hHXqM-v",
        "outputId": "b3993280-51f8-4662-f263-eabcd6cd71d1"
      },
      "execution_count": 4,
      "outputs": [
        {
          "output_type": "stream",
          "name": "stdout",
          "text": [
            "Archive:  ml-25m.zip\n",
            "   creating: ml-25m/\n",
            "  inflating: ml-25m/tags.csv         \n",
            "  inflating: ml-25m/links.csv        \n",
            "  inflating: ml-25m/README.txt       \n",
            "  inflating: ml-25m/ratings.csv      \n",
            "  inflating: ml-25m/genome-tags.csv  \n",
            "  inflating: ml-25m/genome-scores.csv  \n",
            "  inflating: ml-25m/movies.csv       \n"
          ]
        }
      ]
    },
    {
      "cell_type": "code",
      "execution_count": 5,
      "metadata": {
        "id": "jRYExgHD5X-v"
      },
      "outputs": [],
      "source": [
        "import pandas as pd\n",
        "import numpy as np\n",
        "import matplotlib.pyplot as plt\n",
        "import seaborn as sns\n",
        "import pickle\n",
        "from annoy import AnnoyIndex\n",
        "from sklearn.decomposition import PCA\n",
        "from sklearn.manifold import TSNE\n",
        "import plotly.express as px"
      ]
    },
    {
      "cell_type": "code",
      "source": [
        "# define data path\n",
        "model_path = \"./bernoulli-embeddings/results/\"\n",
        "data_path = \"./ml-25m/\""
      ],
      "metadata": {
        "id": "6lpWf74gqd8c"
      },
      "execution_count": 6,
      "outputs": []
    },
    {
      "cell_type": "markdown",
      "source": [
        "## Load the embeddings"
      ],
      "metadata": {
        "id": "3pTMaCnA4xy9"
      }
    },
    {
      "cell_type": "code",
      "source": [
        "# load the estimated embeddings\n",
        "rho = np.load(model_path + \"embeddings_final.npy\")\n",
        "print(rho.shape) # (num_movies, emb_dimension)"
      ],
      "metadata": {
        "colab": {
          "base_uri": "https://localhost:8080/"
        },
        "id": "xoW3iLZI4xiD",
        "outputId": "3e880bc0-867f-41d2-bcd8-75f359d51cda"
      },
      "execution_count": 7,
      "outputs": [
        {
          "output_type": "stream",
          "name": "stdout",
          "text": [
            "(6083, 50)\n"
          ]
        }
      ]
    },
    {
      "cell_type": "code",
      "source": [
        "# load the dictionary mapping from movies to their position in \n",
        "# the embeddings matrix\n",
        "with open(model_path + \"item2idx.pkl\", 'rb') as f:\n",
        "    item2idx = pickle.load(f)\n",
        "\n",
        "# reverse the dictionary\n",
        "idx2item = {v:k for k,v in item2idx.items()}\n",
        "\n",
        "# estimated embeddings have one more row because of the padding\n",
        "print(len(item2idx))    "
      ],
      "metadata": {
        "colab": {
          "base_uri": "https://localhost:8080/"
        },
        "id": "QSyVa0HN4-KN",
        "outputId": "8e11a353-e0b4-4ee5-9a81-8c260c0704f7"
      },
      "execution_count": 8,
      "outputs": [
        {
          "output_type": "stream",
          "name": "stdout",
          "text": [
            "6082\n"
          ]
        }
      ]
    },
    {
      "cell_type": "markdown",
      "source": [
        "## Load movies data"
      ],
      "metadata": {
        "id": "UzeJzusQ5VVI"
      }
    },
    {
      "cell_type": "code",
      "source": [
        "# read the data with the information for movies\n",
        "df_movies = pd.read_csv(data_path + \"movies.csv\")\n",
        "df_movies.columns = [\"movie_id\", \"title\", \"genres\"]\n",
        "\n",
        "# select only the movies for which we have embeddings\n",
        "df_movies = df_movies.loc[df_movies[\"movie_id\"].isin(list(item2idx.keys()))]\n",
        "df_movies"
      ],
      "metadata": {
        "colab": {
          "base_uri": "https://localhost:8080/",
          "height": 424
        },
        "id": "OED8qenZ5NkB",
        "outputId": "8c729ce7-5acc-40d7-8356-48aa0956acff"
      },
      "execution_count": 9,
      "outputs": [
        {
          "output_type": "execute_result",
          "data": {
            "text/plain": [
              "       movie_id                                 title  \\\n",
              "0             1                      Toy Story (1995)   \n",
              "1             2                        Jumanji (1995)   \n",
              "2             3               Grumpier Old Men (1995)   \n",
              "3             4              Waiting to Exhale (1995)   \n",
              "4             5    Father of the Bride Part II (1995)   \n",
              "...         ...                                   ...   \n",
              "59794    201646                      Midsommar (2019)   \n",
              "59844    201773      Spider-Man: Far from Home (2019)   \n",
              "60090    202429  Once Upon a Time in Hollywood (2019)   \n",
              "60095    202439                       Parasite (2019)   \n",
              "61005    204698                          Joker (2019)   \n",
              "\n",
              "                                            genres  \n",
              "0      Adventure|Animation|Children|Comedy|Fantasy  \n",
              "1                       Adventure|Children|Fantasy  \n",
              "2                                   Comedy|Romance  \n",
              "3                             Comedy|Drama|Romance  \n",
              "4                                           Comedy  \n",
              "...                                            ...  \n",
              "59794                         Drama|Horror|Mystery  \n",
              "59844                      Action|Adventure|Sci-Fi  \n",
              "60090                                 Comedy|Drama  \n",
              "60095                                 Comedy|Drama  \n",
              "61005                         Crime|Drama|Thriller  \n",
              "\n",
              "[6082 rows x 3 columns]"
            ],
            "text/html": [
              "\n",
              "  <div id=\"df-99935ca5-2f67-42c0-8370-760509875308\">\n",
              "    <div class=\"colab-df-container\">\n",
              "      <div>\n",
              "<style scoped>\n",
              "    .dataframe tbody tr th:only-of-type {\n",
              "        vertical-align: middle;\n",
              "    }\n",
              "\n",
              "    .dataframe tbody tr th {\n",
              "        vertical-align: top;\n",
              "    }\n",
              "\n",
              "    .dataframe thead th {\n",
              "        text-align: right;\n",
              "    }\n",
              "</style>\n",
              "<table border=\"1\" class=\"dataframe\">\n",
              "  <thead>\n",
              "    <tr style=\"text-align: right;\">\n",
              "      <th></th>\n",
              "      <th>movie_id</th>\n",
              "      <th>title</th>\n",
              "      <th>genres</th>\n",
              "    </tr>\n",
              "  </thead>\n",
              "  <tbody>\n",
              "    <tr>\n",
              "      <th>0</th>\n",
              "      <td>1</td>\n",
              "      <td>Toy Story (1995)</td>\n",
              "      <td>Adventure|Animation|Children|Comedy|Fantasy</td>\n",
              "    </tr>\n",
              "    <tr>\n",
              "      <th>1</th>\n",
              "      <td>2</td>\n",
              "      <td>Jumanji (1995)</td>\n",
              "      <td>Adventure|Children|Fantasy</td>\n",
              "    </tr>\n",
              "    <tr>\n",
              "      <th>2</th>\n",
              "      <td>3</td>\n",
              "      <td>Grumpier Old Men (1995)</td>\n",
              "      <td>Comedy|Romance</td>\n",
              "    </tr>\n",
              "    <tr>\n",
              "      <th>3</th>\n",
              "      <td>4</td>\n",
              "      <td>Waiting to Exhale (1995)</td>\n",
              "      <td>Comedy|Drama|Romance</td>\n",
              "    </tr>\n",
              "    <tr>\n",
              "      <th>4</th>\n",
              "      <td>5</td>\n",
              "      <td>Father of the Bride Part II (1995)</td>\n",
              "      <td>Comedy</td>\n",
              "    </tr>\n",
              "    <tr>\n",
              "      <th>...</th>\n",
              "      <td>...</td>\n",
              "      <td>...</td>\n",
              "      <td>...</td>\n",
              "    </tr>\n",
              "    <tr>\n",
              "      <th>59794</th>\n",
              "      <td>201646</td>\n",
              "      <td>Midsommar (2019)</td>\n",
              "      <td>Drama|Horror|Mystery</td>\n",
              "    </tr>\n",
              "    <tr>\n",
              "      <th>59844</th>\n",
              "      <td>201773</td>\n",
              "      <td>Spider-Man: Far from Home (2019)</td>\n",
              "      <td>Action|Adventure|Sci-Fi</td>\n",
              "    </tr>\n",
              "    <tr>\n",
              "      <th>60090</th>\n",
              "      <td>202429</td>\n",
              "      <td>Once Upon a Time in Hollywood (2019)</td>\n",
              "      <td>Comedy|Drama</td>\n",
              "    </tr>\n",
              "    <tr>\n",
              "      <th>60095</th>\n",
              "      <td>202439</td>\n",
              "      <td>Parasite (2019)</td>\n",
              "      <td>Comedy|Drama</td>\n",
              "    </tr>\n",
              "    <tr>\n",
              "      <th>61005</th>\n",
              "      <td>204698</td>\n",
              "      <td>Joker (2019)</td>\n",
              "      <td>Crime|Drama|Thriller</td>\n",
              "    </tr>\n",
              "  </tbody>\n",
              "</table>\n",
              "<p>6082 rows × 3 columns</p>\n",
              "</div>\n",
              "      <button class=\"colab-df-convert\" onclick=\"convertToInteractive('df-99935ca5-2f67-42c0-8370-760509875308')\"\n",
              "              title=\"Convert this dataframe to an interactive table.\"\n",
              "              style=\"display:none;\">\n",
              "        \n",
              "  <svg xmlns=\"http://www.w3.org/2000/svg\" height=\"24px\"viewBox=\"0 0 24 24\"\n",
              "       width=\"24px\">\n",
              "    <path d=\"M0 0h24v24H0V0z\" fill=\"none\"/>\n",
              "    <path d=\"M18.56 5.44l.94 2.06.94-2.06 2.06-.94-2.06-.94-.94-2.06-.94 2.06-2.06.94zm-11 1L8.5 8.5l.94-2.06 2.06-.94-2.06-.94L8.5 2.5l-.94 2.06-2.06.94zm10 10l.94 2.06.94-2.06 2.06-.94-2.06-.94-.94-2.06-.94 2.06-2.06.94z\"/><path d=\"M17.41 7.96l-1.37-1.37c-.4-.4-.92-.59-1.43-.59-.52 0-1.04.2-1.43.59L10.3 9.45l-7.72 7.72c-.78.78-.78 2.05 0 2.83L4 21.41c.39.39.9.59 1.41.59.51 0 1.02-.2 1.41-.59l7.78-7.78 2.81-2.81c.8-.78.8-2.07 0-2.86zM5.41 20L4 18.59l7.72-7.72 1.47 1.35L5.41 20z\"/>\n",
              "  </svg>\n",
              "      </button>\n",
              "      \n",
              "  <style>\n",
              "    .colab-df-container {\n",
              "      display:flex;\n",
              "      flex-wrap:wrap;\n",
              "      gap: 12px;\n",
              "    }\n",
              "\n",
              "    .colab-df-convert {\n",
              "      background-color: #E8F0FE;\n",
              "      border: none;\n",
              "      border-radius: 50%;\n",
              "      cursor: pointer;\n",
              "      display: none;\n",
              "      fill: #1967D2;\n",
              "      height: 32px;\n",
              "      padding: 0 0 0 0;\n",
              "      width: 32px;\n",
              "    }\n",
              "\n",
              "    .colab-df-convert:hover {\n",
              "      background-color: #E2EBFA;\n",
              "      box-shadow: 0px 1px 2px rgba(60, 64, 67, 0.3), 0px 1px 3px 1px rgba(60, 64, 67, 0.15);\n",
              "      fill: #174EA6;\n",
              "    }\n",
              "\n",
              "    [theme=dark] .colab-df-convert {\n",
              "      background-color: #3B4455;\n",
              "      fill: #D2E3FC;\n",
              "    }\n",
              "\n",
              "    [theme=dark] .colab-df-convert:hover {\n",
              "      background-color: #434B5C;\n",
              "      box-shadow: 0px 1px 3px 1px rgba(0, 0, 0, 0.15);\n",
              "      filter: drop-shadow(0px 1px 2px rgba(0, 0, 0, 0.3));\n",
              "      fill: #FFFFFF;\n",
              "    }\n",
              "  </style>\n",
              "\n",
              "      <script>\n",
              "        const buttonEl =\n",
              "          document.querySelector('#df-99935ca5-2f67-42c0-8370-760509875308 button.colab-df-convert');\n",
              "        buttonEl.style.display =\n",
              "          google.colab.kernel.accessAllowed ? 'block' : 'none';\n",
              "\n",
              "        async function convertToInteractive(key) {\n",
              "          const element = document.querySelector('#df-99935ca5-2f67-42c0-8370-760509875308');\n",
              "          const dataTable =\n",
              "            await google.colab.kernel.invokeFunction('convertToInteractive',\n",
              "                                                     [key], {});\n",
              "          if (!dataTable) return;\n",
              "\n",
              "          const docLinkHtml = 'Like what you see? Visit the ' +\n",
              "            '<a target=\"_blank\" href=https://colab.research.google.com/notebooks/data_table.ipynb>data table notebook</a>'\n",
              "            + ' to learn more about interactive tables.';\n",
              "          element.innerHTML = '';\n",
              "          dataTable['output_type'] = 'display_data';\n",
              "          await google.colab.output.renderOutput(dataTable, element);\n",
              "          const docLink = document.createElement('div');\n",
              "          docLink.innerHTML = docLinkHtml;\n",
              "          element.appendChild(docLink);\n",
              "        }\n",
              "      </script>\n",
              "    </div>\n",
              "  </div>\n",
              "  "
            ]
          },
          "metadata": {},
          "execution_count": 9
        }
      ]
    },
    {
      "cell_type": "code",
      "source": [
        "# create mapping from original movie ID to its name\n",
        "id2movie = {}\n",
        "movie2id = {}\n",
        "for i, row in df_movies.iterrows():\n",
        "    id2movie[row[\"movie_id\"]] = row[\"title\"]\n",
        "    movie2id[row[\"title\"]] = row[\"movie_id\"]"
      ],
      "metadata": {
        "id": "j9GH_6hK5vPt"
      },
      "execution_count": 11,
      "outputs": []
    },
    {
      "cell_type": "code",
      "source": [
        "# test dictionaries\n",
        "id2movie[100], movie2id[\"City Hall (1996)\"]"
      ],
      "metadata": {
        "colab": {
          "base_uri": "https://localhost:8080/"
        },
        "id": "6DEOohi252rt",
        "outputId": "9ed182db-1605-4422-ae44-422c1ba5c3fe"
      },
      "execution_count": 12,
      "outputs": [
        {
          "output_type": "execute_result",
          "data": {
            "text/plain": [
              "('City Hall (1996)', 100)"
            ]
          },
          "metadata": {},
          "execution_count": 12
        }
      ]
    },
    {
      "cell_type": "markdown",
      "source": [
        "## Nearest neighbors"
      ],
      "metadata": {
        "id": "I58Zu6Fa57zn"
      }
    },
    {
      "cell_type": "code",
      "source": [
        "# define auxiliary functions\n",
        "def build_indexer(vectors, num_trees=10):\n",
        "    \"\"\" we will use a version of approximate nearest neighbors\n",
        "        (ANNOY: https://github.com/spotify/annoy) to build an indexer\n",
        "        of the embeddings matrix\n",
        "    \"\"\"\n",
        "    \n",
        "    # angular = cosine\n",
        "    indexer = AnnoyIndex(vectors.shape[1], 'angular')\n",
        "    for i, vec in enumerate(vectors):\n",
        "        # add word embedding to indexer\n",
        "        indexer.add_item(i, vec)\n",
        "        \n",
        "    # build trees for searching\n",
        "    indexer.build(num_trees)\n",
        "    \n",
        "    return indexer\n",
        "\n",
        "def find_nn(item_name, annoy_indexer, item2idx, idx2item, movie2id, id2movie, n=10):\n",
        "    \"\"\" function to find the nearest neighbors of a given item\n",
        "    \"\"\"\n",
        "    \n",
        "    # name to index in original database\n",
        "    item = movie2id[item_name]\n",
        "    \n",
        "    # original index to model index\n",
        "    item_index = item2idx[item]\n",
        "    \n",
        "    nearest_indexes, distances =  annoy_indexer.get_nns_by_item(item_index, n+1, include_distances=True)\n",
        "    nearest_items = [idx2item[i] for i in nearest_indexes[1:] if i > 0]\n",
        "    \n",
        "    # get names of movies\n",
        "    nearest_movies = [id2movie[i] for i in nearest_items]\n",
        "    \n",
        "    return nearest_movies, distances\n",
        "\n",
        "def list_print(x):\n",
        "    for i, movie in enumerate(x):\n",
        "        print(f\"{i+1}. {movie}\")"
      ],
      "metadata": {
        "id": "lKWpDh5g55q2"
      },
      "execution_count": 22,
      "outputs": []
    },
    {
      "cell_type": "code",
      "source": [
        "# create an indexer for our estimated embeddings\n",
        "indexer_rho = build_indexer(rho, 20000)"
      ],
      "metadata": {
        "id": "ISo1zAq55-Zl"
      },
      "execution_count": 16,
      "outputs": []
    },
    {
      "cell_type": "code",
      "source": [
        "movie = \"Star Wars: Episode VI - Return of the Jedi (1983)\"\n",
        "N = 10\n",
        "print(f\"{N} RHO nearest neighbors of {movie}:\\n\")\n",
        "nn_movies, nn_dists = find_nn(movie, indexer_rho, item2idx, idx2item, movie2id, id2movie, N)\n",
        "list_print(nn_movies)"
      ],
      "metadata": {
        "colab": {
          "base_uri": "https://localhost:8080/"
        },
        "id": "yew6e4376ADe",
        "outputId": "f84e38c7-935b-46fd-888a-07ba0ecebb6c"
      },
      "execution_count": 23,
      "outputs": [
        {
          "output_type": "stream",
          "name": "stdout",
          "text": [
            "10 RHO nearest neighbors of Star Wars: Episode VI - Return of the Jedi (1983):\n",
            "\n",
            "1. Star Wars: Episode IV - A New Hope (1977)\n",
            "2. Star Wars: Episode V - The Empire Strikes Back (1980)\n",
            "3. Indiana Jones and the Last Crusade (1989)\n",
            "4. Raiders of the Lost Ark (Indiana Jones and the Raiders of the Lost Ark) (1981)\n",
            "5. Star Trek II: The Wrath of Khan (1982)\n",
            "6. Indiana Jones and the Temple of Doom (1984)\n",
            "7. Star Trek: First Contact (1996)\n",
            "8. Star Wars: Episode I - The Phantom Menace (1999)\n",
            "9. Aliens (1986)\n",
            "10. Terminator, The (1984)\n"
          ]
        }
      ]
    },
    {
      "cell_type": "code",
      "source": [
        "movie = \"Harry Potter and the Order of the Phoenix (2007)\"\n",
        "N = 10\n",
        "print(f\"{N} RHO nearest neighbors of {movie}:\\n\")\n",
        "nn_movies, nn_dists = find_nn(movie, indexer_rho, item2idx, idx2item, movie2id, id2movie, N)\n",
        "list_print(nn_movies)"
      ],
      "metadata": {
        "colab": {
          "base_uri": "https://localhost:8080/"
        },
        "id": "TTlzYojd6OCX",
        "outputId": "8e6eb3a1-918c-489b-bcf2-38793b904f7e"
      },
      "execution_count": 24,
      "outputs": [
        {
          "output_type": "stream",
          "name": "stdout",
          "text": [
            "10 RHO nearest neighbors of Harry Potter and the Order of the Phoenix (2007):\n",
            "\n",
            "1. Harry Potter and the Half-Blood Prince (2009)\n",
            "2. Harry Potter and the Deathly Hallows: Part 1 (2010)\n",
            "3. Harry Potter and the Goblet of Fire (2005)\n",
            "4. Harry Potter and the Deathly Hallows: Part 2 (2011)\n",
            "5. Harry Potter and the Prisoner of Azkaban (2004)\n",
            "6. Harry Potter and the Chamber of Secrets (2002)\n",
            "7. Harry Potter and the Sorcerer's Stone (a.k.a. Harry Potter and the Philosopher's Stone) (2001)\n",
            "8. Pirates of the Caribbean: Dead Man's Chest (2006)\n",
            "9. Pirates of the Caribbean: At World's End (2007)\n",
            "10. Chronicles of Narnia: The Lion, the Witch and the Wardrobe, The (2005)\n"
          ]
        }
      ]
    },
    {
      "cell_type": "code",
      "source": [
        "movie = \"Die Hard (1988)\"\n",
        "N = 10\n",
        "print(f\"{N} RHO nearest neighbors of {movie}:\\n\")\n",
        "nn_movies, nn_dists = find_nn(movie, indexer_rho, item2idx, idx2item, movie2id, id2movie, N)\n",
        "list_print(nn_movies)"
      ],
      "metadata": {
        "colab": {
          "base_uri": "https://localhost:8080/"
        },
        "id": "HgV1sO5R6QQj",
        "outputId": "41067c63-18ef-4e3f-a777-200429485cda"
      },
      "execution_count": 25,
      "outputs": [
        {
          "output_type": "stream",
          "name": "stdout",
          "text": [
            "10 RHO nearest neighbors of Die Hard (1988):\n",
            "\n",
            "1. Lethal Weapon (1987)\n",
            "2. Indiana Jones and the Last Crusade (1989)\n",
            "3. Terminator, The (1984)\n",
            "4. Indiana Jones and the Temple of Doom (1984)\n",
            "5. Untouchables, The (1987)\n",
            "6. Aliens (1986)\n",
            "7. Raiders of the Lost Ark (Indiana Jones and the Raiders of the Lost Ark) (1981)\n",
            "8. Terminator 2: Judgment Day (1991)\n",
            "9. Die Hard 2 (1990)\n",
            "10. Hunt for Red October, The (1990)\n"
          ]
        }
      ]
    },
    {
      "cell_type": "code",
      "source": [
        "movie = \"Kill Bill: Vol. 1 (2003)\"\n",
        "N = 10\n",
        "print(f\"{N} RHO nearest neighbors of {movie}:\\n\")\n",
        "nn_movies, nn_dists = find_nn(movie, indexer_rho, item2idx, idx2item, movie2id, id2movie, N)\n",
        "list_print(nn_movies)"
      ],
      "metadata": {
        "colab": {
          "base_uri": "https://localhost:8080/"
        },
        "id": "s3XoUZBf6Shj",
        "outputId": "66896cb5-e747-4f37-bf24-7408db5eff17"
      },
      "execution_count": 26,
      "outputs": [
        {
          "output_type": "stream",
          "name": "stdout",
          "text": [
            "10 RHO nearest neighbors of Kill Bill: Vol. 1 (2003):\n",
            "\n",
            "1. Kill Bill: Vol. 2 (2004)\n",
            "2. Sin City (2005)\n",
            "3. Donnie Darko (2001)\n",
            "4. Shaun of the Dead (2004)\n",
            "5. Grindhouse (2007)\n",
            "6. Snatch (2000)\n",
            "7. V for Vendetta (2006)\n",
            "8. Battle Royale (Batoru rowaiaru) (2000)\n",
            "9. Reservoir Dogs (1992)\n",
            "10. Team America: World Police (2004)\n"
          ]
        }
      ]
    },
    {
      "cell_type": "code",
      "source": [
        "movie = \"Lion King, The (1994)\"\n",
        "N = 10\n",
        "print(f\"{N} RHO nearest neighbors of {movie}:\\n\")\n",
        "nn_movies, nn_dists = find_nn(movie, indexer_rho, item2idx, idx2item, movie2id, id2movie, N)\n",
        "list_print(nn_movies)"
      ],
      "metadata": {
        "colab": {
          "base_uri": "https://localhost:8080/"
        },
        "id": "U3ZBA95W6Tni",
        "outputId": "ff6c0d2c-9ba1-480e-e6ac-6e4673a7591d"
      },
      "execution_count": 27,
      "outputs": [
        {
          "output_type": "stream",
          "name": "stdout",
          "text": [
            "10 RHO nearest neighbors of Lion King, The (1994):\n",
            "\n",
            "1. Aladdin (1992)\n",
            "2. Beauty and the Beast (1991)\n",
            "3. Pocahontas (1995)\n",
            "4. Mrs. Doubtfire (1993)\n",
            "5. Jumanji (1995)\n",
            "6. Snow White and the Seven Dwarfs (1937)\n",
            "7. Home Alone (1990)\n",
            "8. Little Mermaid, The (1989)\n",
            "9. Pinocchio (1940)\n",
            "10. Hunchback of Notre Dame, The (1996)\n"
          ]
        }
      ]
    },
    {
      "cell_type": "code",
      "source": [
        "movie = \"2001: A Space Odyssey (1968)\"\n",
        "N = 10\n",
        "print(f\"{N} RHO nearest neighbors of {movie}:\\n\")\n",
        "nn_movies, nn_dists = find_nn(movie, indexer_rho, item2idx, idx2item, movie2id, id2movie, N)\n",
        "list_print(nn_movies)"
      ],
      "metadata": {
        "colab": {
          "base_uri": "https://localhost:8080/"
        },
        "id": "XMoiBUP06Vhr",
        "outputId": "bbcbdd58-7097-4d20-ffa2-0d3e2e9a2d02"
      },
      "execution_count": 28,
      "outputs": [
        {
          "output_type": "stream",
          "name": "stdout",
          "text": [
            "10 RHO nearest neighbors of 2001: A Space Odyssey (1968):\n",
            "\n",
            "1. Blade Runner (1982)\n",
            "2. Dr. Strangelove or: How I Learned to Stop Worrying and Love the Bomb (1964)\n",
            "3. Clockwork Orange, A (1971)\n",
            "4. Brazil (1985)\n",
            "5. Apocalypse Now (1979)\n",
            "6. Alien (1979)\n",
            "7. Metropolis (1927)\n",
            "8. Barry Lyndon (1975)\n",
            "9. Planet of the Apes (1968)\n",
            "10. Lawrence of Arabia (1962)\n"
          ]
        }
      ]
    },
    {
      "cell_type": "code",
      "source": [
        "movie = \"Exorcist, The (1973)\"\n",
        "N = 10\n",
        "print(f\"{N} RHO nearest neighbors of {movie}:\\n\")\n",
        "nn_movies, nn_dists = find_nn(movie, indexer_rho, item2idx, idx2item, movie2id, id2movie, N)\n",
        "list_print(nn_movies)"
      ],
      "metadata": {
        "colab": {
          "base_uri": "https://localhost:8080/"
        },
        "id": "mSfhoqQu6bUN",
        "outputId": "1fc6bd43-93da-4b80-fb4a-501635815be8"
      },
      "execution_count": 29,
      "outputs": [
        {
          "output_type": "stream",
          "name": "stdout",
          "text": [
            "10 RHO nearest neighbors of Exorcist, The (1973):\n",
            "\n",
            "1. Halloween (1978)\n",
            "2. Poltergeist (1982)\n",
            "3. Carrie (1976)\n",
            "4. Omen, The (1976)\n",
            "5. Rosemary's Baby (1968)\n",
            "6. Jaws (1975)\n",
            "7. Misery (1990)\n",
            "8. Nightmare on Elm Street, A (1984)\n",
            "9. Shining, The (1980)\n",
            "10. Texas Chainsaw Massacre, The (1974)\n"
          ]
        }
      ]
    },
    {
      "cell_type": "markdown",
      "source": [
        "## Analogies"
      ],
      "metadata": {
        "id": "1IozLP0F6iWu"
      }
    },
    {
      "cell_type": "markdown",
      "metadata": {
        "id": "6831515e"
      },
      "source": [
        "A very interesting, and surprising, use of word embeddings is to find word analogies. The famous example used by [Mikolov et al. (2013)](https://arxiv.org/pdf/1301.3781.pdf) searches for a word $X$ in the embedded space that is similar to \"woman\" in the same sense that \"king\" is similar to \"man\". This task can be expressed in terms of a simple vector arithmetic problem as follows:\n",
        "\n",
        "$$\n",
        "\\vec{King}^{\\,} - \\vec{Man}^{\\,} = \\vec{X}^{\\,} - \\vec{Woman}^{\\,} \\\\\n",
        "\\vec{King}^{\\,} - \\vec{Man}^{\\,} + \\vec{Woman}^{\\,} = \\vec{X}^{\\,}\n",
        "$$\n",
        "\n",
        "Mikolov et al. (2013) find that when performing this operation on their trained embeddings, they are able to recover the word \"queen\".\n",
        "\n",
        "$$ \\vec{King}^{\\,} - \\vec{Man}^{\\,} + \\vec{Woman}^{\\,} \\approx \\vec{Queen}^{\\,} $$"
      ]
    },
    {
      "cell_type": "markdown",
      "metadata": {
        "id": "2279c969"
      },
      "source": [
        "We will play with this idea and try to extend it to our own domain (i.e. movies. Some of the analogies that we will try to solve are: \n",
        "\n",
        "\n",
        "$$ \\vec{Star Wars V}^{\\,} - \\vec{Star Wars IV}^{\\,} + \\vec{LoR I}^{\\,} \\approx $$\n",
        "\n",
        "$$ \\vec{Harry Potter 5}^{\\,} - \\vec{Harry Potter 4}^{\\,} + \\vec{Kill Bill 1}^{\\,} \\approx $$"
      ]
    },
    {
      "cell_type": "code",
      "source": [
        "def find_nn_vector(vector, annoy_indexer, item2idx, idx2item, movie2id, id2movie, n=10):\n",
        "    \"\"\" function to find the nearest neighbors of a given vector\n",
        "    \"\"\"\n",
        "    \n",
        "    # find the nearest neighbor of our query vector\n",
        "    nearest_indexes, distances =  annoy_indexer.get_nns_by_vector(query_emb,  n+1, include_distances=True)\n",
        "    nearest_items = [idx2item[i] for i in nearest_indexes[1:] if i > 0]\n",
        "    \n",
        "    # get names of movies\n",
        "    nearest_movies = [id2movie[i] for i in nearest_items]\n",
        "    \n",
        "    return nearest_movies, distances"
      ],
      "metadata": {
        "id": "FcytuRox7Fl3"
      },
      "execution_count": 41,
      "outputs": []
    },
    {
      "cell_type": "code",
      "source": [
        "# define the movies for the analogy task\n",
        "movie_pos_1 = \"Harry Potter and the Half-Blood Prince (2009)\"\n",
        "movie_neg_1 = \"Harry Potter and the Order of the Phoenix (2007)\"\n",
        "movie_pos_2 = \"Kill Bill: Vol. 1 (2003)\"\n",
        "\n",
        "# get the embedded representation of our movies of interest\n",
        "emb_pos_1 = rho[item2idx[movie2id[movie_pos_1]]]\n",
        "emb_neg_1 = rho[item2idx[movie2id[movie_neg_1]]]\n",
        "emb_pos_2 = rho[item2idx[movie2id[movie_pos_2]]]\n",
        "\n",
        "# vector arithmetic\n",
        "query_emb = emb_pos_1 - emb_neg_1 + emb_pos_2\n",
        "query_emb.shape"
      ],
      "metadata": {
        "colab": {
          "base_uri": "https://localhost:8080/"
        },
        "id": "SC3WI7ps4wfo",
        "outputId": "6e24c40c-de96-454f-9007-34e9074cca8f"
      },
      "execution_count": 44,
      "outputs": [
        {
          "output_type": "execute_result",
          "data": {
            "text/plain": [
              "(50,)"
            ]
          },
          "metadata": {},
          "execution_count": 44
        }
      ]
    },
    {
      "cell_type": "code",
      "source": [
        "print(f\"Which movie is similar to: {movie_pos_2} in the same sense that {movie_pos_1} is similar to {movie_neg_1}\\n\")\n",
        "N = 10\n",
        "nn_movies, nn_dists = find_nn_vector(query_emb, indexer_rho, item2idx, idx2item, movie2id, id2movie, N)\n",
        "list_print(nn_movies)"
      ],
      "metadata": {
        "id": "OFU1R2pY6jst",
        "colab": {
          "base_uri": "https://localhost:8080/"
        },
        "outputId": "342785e0-4510-44d1-adba-e45760bc68fe"
      },
      "execution_count": 46,
      "outputs": [
        {
          "output_type": "stream",
          "name": "stdout",
          "text": [
            "Which movie is similar to: Kill Bill: Vol. 1 (2003) in the same sense that Harry Potter and the Half-Blood Prince (2009) is similar to Harry Potter and the Order of the Phoenix (2007)\n",
            "\n",
            "1. Kill Bill: Vol. 2 (2004)\n",
            "2. Sin City (2005)\n",
            "3. Snatch (2000)\n",
            "4. Old Boy (2003)\n",
            "5. Memento (2000)\n",
            "6. Reservoir Dogs (1992)\n",
            "7. V for Vendetta (2006)\n",
            "8. Shaun of the Dead (2004)\n",
            "9. Battle Royale (Batoru rowaiaru) (2000)\n",
            "10. Donnie Darko (2001)\n"
          ]
        }
      ]
    },
    {
      "cell_type": "code",
      "source": [
        "# define the movies for the analogy task\n",
        "movie_pos_1 = \"Star Wars: Episode V - The Empire Strikes Back (1980)\"\n",
        "movie_neg_1 = \"Star Wars: Episode IV - A New Hope (1977)\"\n",
        "movie_pos_2 = \"Lord of the Rings: The Fellowship of the Ring, The (2001)\"\n",
        "\n",
        "# get the embedded representation of our movies of interest\n",
        "emb_pos_1 = rho[item2idx[movie2id[movie_pos_1]]]\n",
        "emb_neg_1 = rho[item2idx[movie2id[movie_neg_1]]]\n",
        "emb_pos_2 = rho[item2idx[movie2id[movie_pos_2]]]\n",
        "\n",
        "# vector arithmetic\n",
        "query_emb = emb_pos_1 - emb_neg_1 + emb_pos_2\n",
        "query_emb.shape"
      ],
      "metadata": {
        "colab": {
          "base_uri": "https://localhost:8080/"
        },
        "id": "Tyan69Zv8GKv",
        "outputId": "991144a9-ddc3-4313-a6de-651d873896c4"
      },
      "execution_count": 47,
      "outputs": [
        {
          "output_type": "execute_result",
          "data": {
            "text/plain": [
              "(50,)"
            ]
          },
          "metadata": {},
          "execution_count": 47
        }
      ]
    },
    {
      "cell_type": "code",
      "source": [
        "print(f\"Which movie is similar to: {movie_pos_2} in the same sense that {movie_pos_1} is similar to {movie_neg_1}\\n\")\n",
        "N = 10\n",
        "nn_movies, nn_dists = find_nn_vector(query_emb, indexer_rho, item2idx, idx2item, movie2id, id2movie, N)\n",
        "list_print(nn_movies)"
      ],
      "metadata": {
        "colab": {
          "base_uri": "https://localhost:8080/"
        },
        "id": "xSk29XNW8Ia9",
        "outputId": "0b06c92b-cfd4-446a-dde0-f3dc731838c8"
      },
      "execution_count": 48,
      "outputs": [
        {
          "output_type": "stream",
          "name": "stdout",
          "text": [
            "Which movie is similar to: Lord of the Rings: The Fellowship of the Ring, The (2001) in the same sense that Star Wars: Episode V - The Empire Strikes Back (1980) is similar to Star Wars: Episode IV - A New Hope (1977)\n",
            "\n",
            "1. Lord of the Rings: The Two Towers, The (2002)\n",
            "2. Lord of the Rings: The Return of the King, The (2003)\n",
            "3. Matrix, The (1999)\n",
            "4. Pirates of the Caribbean: The Curse of the Black Pearl (2003)\n",
            "5. Shrek (2001)\n",
            "6. Indiana Jones and the Last Crusade (1989)\n",
            "7. Star Wars: Episode V - The Empire Strikes Back (1980)\n",
            "8. Crouching Tiger, Hidden Dragon (Wo hu cang long) (2000)\n",
            "9. Kill Bill: Vol. 1 (2003)\n",
            "10. Batman Begins (2005)\n"
          ]
        }
      ]
    }
  ],
  "metadata": {
    "kernelspec": {
      "display_name": "Python 3.8.2 64-bit",
      "language": "python",
      "name": "python3"
    },
    "language_info": {
      "codemirror_mode": {
        "name": "ipython",
        "version": 3
      },
      "file_extension": ".py",
      "mimetype": "text/x-python",
      "name": "python",
      "nbconvert_exporter": "python",
      "pygments_lexer": "ipython3",
      "version": "3.8.2"
    },
    "orig_nbformat": 4,
    "vscode": {
      "interpreter": {
        "hash": "916dbcbb3f70747c44a77c7bcd40155683ae19c65e1c03b4aa3499c5328201f1"
      }
    },
    "colab": {
      "provenance": [],
      "collapsed_sections": [],
      "toc_visible": true
    },
    "accelerator": "GPU"
  },
  "nbformat": 4,
  "nbformat_minor": 0
}